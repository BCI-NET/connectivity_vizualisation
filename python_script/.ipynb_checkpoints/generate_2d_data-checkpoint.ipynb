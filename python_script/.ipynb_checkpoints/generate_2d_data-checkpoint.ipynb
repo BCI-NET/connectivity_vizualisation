{
 "cells": [
  {
   "cell_type": "code",
   "execution_count": 1,
   "metadata": {},
   "outputs": [],
   "source": [
    "import csv\n",
    "from numpy import random"
   ]
  },
  {
   "cell_type": "code",
   "execution_count": 2,
   "metadata": {},
   "outputs": [],
   "source": [
    "dim = range(-50,50,10)\n",
    "coords = []\n",
    "labels = []\n",
    "for i in dim:\n",
    "    for j in dim:\n",
    "        coords.append([i,j,0])\n",
    "        labels.append(str(i)+';'+str(j))"
   ]
  },
  {
   "cell_type": "code",
   "execution_count": 3,
   "metadata": {},
   "outputs": [],
   "source": [
    "n_sensor = len(dim)**2\n",
    "conn_matrix = [[0 for i in range(n_sensor)] for j in range(n_sensor)]\n",
    "l = len(conn_matrix)\n",
    "for i in range(l):\n",
    "    for j in range(i):\n",
    "        rand_value = random.rand()\n",
    "        conn_matrix[i][j] = rand_value\n",
    "        conn_matrix[j][i] = rand_value"
   ]
  },
  {
   "cell_type": "code",
   "execution_count": 4,
   "metadata": {},
   "outputs": [],
   "source": [
    "with open('sensor_coordinates.csv', 'w+') as file:\n",
    "    writer = csv.writer(file)\n",
    "    writer.writerows(coords)"
   ]
  },
  {
   "cell_type": "code",
   "execution_count": 5,
   "metadata": {},
   "outputs": [],
   "source": [
    "with open('sensor_labels.csv', 'w+') as file:\n",
    "    writer = csv.writer(file)\n",
    "    writer.writerows(labels)"
   ]
  },
  {
   "cell_type": "code",
   "execution_count": 6,
   "metadata": {},
   "outputs": [],
   "source": [
    "with open('conn_matrix.csv', 'w+') as file:\n",
    "    writer = csv.writer(file)\n",
    "    writer.writerows(conn_matrix)"
   ]
  },
  {
   "cell_type": "code",
   "execution_count": null,
   "metadata": {},
   "outputs": [],
   "source": []
  }
 ],
 "metadata": {
  "kernelspec": {
   "display_name": "Python 3",
   "language": "python",
   "name": "python3"
  },
  "language_info": {
   "codemirror_mode": {
    "name": "ipython",
    "version": 3
   },
   "file_extension": ".py",
   "mimetype": "text/x-python",
   "name": "python",
   "nbconvert_exporter": "python",
   "pygments_lexer": "ipython3",
   "version": "3.7.6"
  }
 },
 "nbformat": 4,
 "nbformat_minor": 4
}
