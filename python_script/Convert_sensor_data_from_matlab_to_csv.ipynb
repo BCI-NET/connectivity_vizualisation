{
 "cells": [
  {
   "cell_type": "code",
   "execution_count": 1,
   "metadata": {},
   "outputs": [],
   "source": [
    "from scipy.io import loadmat\n",
    "from numpy import savetxt, asarray\n",
    "import pandas as pd"
   ]
  },
  {
   "cell_type": "markdown",
   "metadata": {},
   "source": [
    "# Converting sensor label and coordinates"
   ]
  },
  {
   "cell_type": "code",
   "execution_count": 2,
   "metadata": {},
   "outputs": [],
   "source": [
    "labels_matlab = loadmat('/Users/thibault.rolland/Documents/mydata/newdata_tizi/mat/Coords/labels.mat')\n",
    "coords_matlab = loadmat('/Users/thibault.rolland/Documents/mydata/newdata_tizi/mat/Coords/coords.mat')"
   ]
  },
  {
   "cell_type": "code",
   "execution_count": 4,
   "metadata": {},
   "outputs": [],
   "source": [
    "coords = coords_matlab['coo']\n",
    "labels = []\n",
    "for i in range(61):\n",
    "    labels.append(labels_matlab['lab'][0][i][0])\n"
   ]
  },
  {
   "cell_type": "code",
   "execution_count": 13,
   "metadata": {},
   "outputs": [],
   "source": [
    "savetxt(\"sensor_labels.csv\", asarray(labels), delimiter=\",\", fmt='%s')"
   ]
  },
  {
   "cell_type": "code",
   "execution_count": 15,
   "metadata": {},
   "outputs": [],
   "source": [
    "savetxt(\"sensor_coordinates.csv\", asarray(coords), delimiter=\",\", fmt='%s')"
   ]
  },
  {
   "cell_type": "markdown",
   "metadata": {},
   "source": [
    "# Converting connectivity matrix"
   ]
  },
  {
   "cell_type": "code",
   "execution_count": 2,
   "metadata": {},
   "outputs": [],
   "source": [
    "path = '/Users/thibault.rolland/Documents/mydata/newdata_tizi/mat/ConnectivityMatrices/'\n",
    "#From 0 to 69\n",
    "trial_number = 0\n"
   ]
  },
  {
   "cell_type": "code",
   "execution_count": 3,
   "metadata": {},
   "outputs": [],
   "source": [
    "coords_to_delete_matlab = loadmat('/Users/thibault.rolland/Documents/mydata/newdata_tizi/mat/Coords/coords2delete.mat')\n",
    "coords_to_delete = [x - 1 for x in coords_to_delete_matlab['coords2delete'][0,:-2]]\n",
    "path = '/Users/thibault.rolland/Documents/mydata/newdata_tizi/mat/ConnectivityMatrices/'\n",
    "file_name = 'Coherence_betaband_subj1.mat'\n",
    "imag_file_name = 'ImagCoherence_betaband_subj1.mat'\n",
    "table_name = 'matrix_coh_MI'\n",
    "imag_table_name = 'matrix_icoh_MI'\n",
    "#Ranges from 0 to 69\n",
    "#trial_number = 0"
   ]
  },
  {
   "cell_type": "code",
   "execution_count": 4,
   "metadata": {},
   "outputs": [],
   "source": [
    "def filter_conn_matrix(mat_input, coords_to_delete):\n",
    "    out_mat = []\n",
    "    for i in range(70):\n",
    "        matrix = []\n",
    "        for j in range(74):\n",
    "            if j in coords_to_delete:\n",
    "                continue\n",
    "            row = []\n",
    "            for k in range(74):\n",
    "                if k in coords_to_delete:\n",
    "                    continue\n",
    "                row.append(mat_input[k,j,i])\n",
    "            matrix.append(row)\n",
    "        out_mat.append(matrix)\n",
    "    return out_mat"
   ]
  },
  {
   "cell_type": "code",
   "execution_count": 5,
   "metadata": {},
   "outputs": [],
   "source": [
    "def get_connectivity_matrix(file_path, table_name, coords_to_delete, trial_number):\n",
    "    coh_mat_matlab = loadmat(file_path)\n",
    "    coh_mat = filter_conn_matrix(coh_mat_matlab[table_name], coords_to_delete)\n",
    "\n",
    "    connectivity_matrix = pd.DataFrame(coh_mat[trial_number])\n",
    "\n",
    "    return connectivity_matrix"
   ]
  },
  {
   "cell_type": "code",
   "execution_count": 9,
   "metadata": {},
   "outputs": [],
   "source": [
    "for trial_number in range(70):\n",
    "    conn_matrix = get_connectivity_matrix(path+file_name, table_name, coords_to_delete, trial_number)\n",
    "    conn_matrix.to_csv('./conn_matrix/conn_matrix_' + str(trial_number) + '.csv', header=False, index=False)"
   ]
  },
  {
   "cell_type": "code",
   "execution_count": 10,
   "metadata": {},
   "outputs": [],
   "source": [
    "for trial_number in range(70):\n",
    "    imag_conn_matrix = get_connectivity_matrix(path+imag_file_name, imag_table_name, coords_to_delete, trial_number)\n",
    "    imag_conn_matrix.to_csv('./imag_conn_matrix/imag_conn_matrix_' + str(trial_number) + '.csv', header=False, index=False)"
   ]
  },
  {
   "cell_type": "code",
   "execution_count": null,
   "metadata": {},
   "outputs": [],
   "source": []
  }
 ],
 "metadata": {
  "kernelspec": {
   "display_name": "Python 3",
   "language": "python",
   "name": "python3"
  },
  "language_info": {
   "codemirror_mode": {
    "name": "ipython",
    "version": 3
   },
   "file_extension": ".py",
   "mimetype": "text/x-python",
   "name": "python",
   "nbconvert_exporter": "python",
   "pygments_lexer": "ipython3",
   "version": "3.7.6"
  }
 },
 "nbformat": 4,
 "nbformat_minor": 4
}
