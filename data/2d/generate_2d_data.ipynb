{
 "cells": [
  {
   "cell_type": "code",
   "execution_count": 16,
   "metadata": {},
   "outputs": [],
   "source": [
    "import csv\n",
    "from numpy import random"
   ]
  },
  {
   "cell_type": "code",
   "execution_count": 28,
   "metadata": {},
   "outputs": [],
   "source": [
    "dim = range(-50,50,10)\n",
    "coords = []\n",
    "labels = []\n",
    "for i in dim:\n",
    "    for j in dim:\n",
    "        coords.append([i,j,0])\n",
    "        labels.append(str(i)+';'+str(j))"
   ]
  },
  {
   "cell_type": "code",
   "execution_count": 30,
   "metadata": {},
   "outputs": [],
   "source": [
    "conn_matrix = [[0 for i in dim] for j in dim]\n",
    "l = len(conn_matrix)\n",
    "for i in range(l):\n",
    "    for j in range(i):\n",
    "        rand_value = random.rand()\n",
    "        conn_matrix[i][j] = rand_value\n",
    "        conn_matrix[j][i] = rand_value"
   ]
  },
  {
   "cell_type": "code",
   "execution_count": 12,
   "metadata": {
    "scrolled": true
   },
   "outputs": [
    {
     "data": {
      "text/plain": [
       "[[-50, -50, 0],\n",
       " [-50, -40, 0],\n",
       " [-50, -30, 0],\n",
       " [-50, -20, 0],\n",
       " [-50, -10, 0],\n",
       " [-50, 0, 0],\n",
       " [-50, 10, 0],\n",
       " [-50, 20, 0],\n",
       " [-50, 30, 0],\n",
       " [-50, 40, 0],\n",
       " [-40, -50, 0],\n",
       " [-40, -40, 0],\n",
       " [-40, -30, 0],\n",
       " [-40, -20, 0],\n",
       " [-40, -10, 0],\n",
       " [-40, 0, 0],\n",
       " [-40, 10, 0],\n",
       " [-40, 20, 0],\n",
       " [-40, 30, 0],\n",
       " [-40, 40, 0],\n",
       " [-30, -50, 0],\n",
       " [-30, -40, 0],\n",
       " [-30, -30, 0],\n",
       " [-30, -20, 0],\n",
       " [-30, -10, 0],\n",
       " [-30, 0, 0],\n",
       " [-30, 10, 0],\n",
       " [-30, 20, 0],\n",
       " [-30, 30, 0],\n",
       " [-30, 40, 0],\n",
       " [-20, -50, 0],\n",
       " [-20, -40, 0],\n",
       " [-20, -30, 0],\n",
       " [-20, -20, 0],\n",
       " [-20, -10, 0],\n",
       " [-20, 0, 0],\n",
       " [-20, 10, 0],\n",
       " [-20, 20, 0],\n",
       " [-20, 30, 0],\n",
       " [-20, 40, 0],\n",
       " [-10, -50, 0],\n",
       " [-10, -40, 0],\n",
       " [-10, -30, 0],\n",
       " [-10, -20, 0],\n",
       " [-10, -10, 0],\n",
       " [-10, 0, 0],\n",
       " [-10, 10, 0],\n",
       " [-10, 20, 0],\n",
       " [-10, 30, 0],\n",
       " [-10, 40, 0],\n",
       " [0, -50, 0],\n",
       " [0, -40, 0],\n",
       " [0, -30, 0],\n",
       " [0, -20, 0],\n",
       " [0, -10, 0],\n",
       " [0, 0, 0],\n",
       " [0, 10, 0],\n",
       " [0, 20, 0],\n",
       " [0, 30, 0],\n",
       " [0, 40, 0],\n",
       " [10, -50, 0],\n",
       " [10, -40, 0],\n",
       " [10, -30, 0],\n",
       " [10, -20, 0],\n",
       " [10, -10, 0],\n",
       " [10, 0, 0],\n",
       " [10, 10, 0],\n",
       " [10, 20, 0],\n",
       " [10, 30, 0],\n",
       " [10, 40, 0],\n",
       " [20, -50, 0],\n",
       " [20, -40, 0],\n",
       " [20, -30, 0],\n",
       " [20, -20, 0],\n",
       " [20, -10, 0],\n",
       " [20, 0, 0],\n",
       " [20, 10, 0],\n",
       " [20, 20, 0],\n",
       " [20, 30, 0],\n",
       " [20, 40, 0],\n",
       " [30, -50, 0],\n",
       " [30, -40, 0],\n",
       " [30, -30, 0],\n",
       " [30, -20, 0],\n",
       " [30, -10, 0],\n",
       " [30, 0, 0],\n",
       " [30, 10, 0],\n",
       " [30, 20, 0],\n",
       " [30, 30, 0],\n",
       " [30, 40, 0],\n",
       " [40, -50, 0],\n",
       " [40, -40, 0],\n",
       " [40, -30, 0],\n",
       " [40, -20, 0],\n",
       " [40, -10, 0],\n",
       " [40, 0, 0],\n",
       " [40, 10, 0],\n",
       " [40, 20, 0],\n",
       " [40, 30, 0],\n",
       " [40, 40, 0]]"
      ]
     },
     "execution_count": 12,
     "metadata": {},
     "output_type": "execute_result"
    }
   ],
   "source": []
  },
  {
   "cell_type": "code",
   "execution_count": 14,
   "metadata": {},
   "outputs": [],
   "source": [
    "with open('sensor_coordinates.csv', 'w+') as file:\n",
    "    writer = csv.writer(file)\n",
    "    writer.writerows(coords)"
   ]
  },
  {
   "cell_type": "code",
   "execution_count": 15,
   "metadata": {},
   "outputs": [],
   "source": [
    "with open('sensor_labels.csv', 'w+') as file:\n",
    "    writer = csv.writer(file)\n",
    "    writer.writerows(labels)"
   ]
  },
  {
   "cell_type": "code",
   "execution_count": 32,
   "metadata": {},
   "outputs": [],
   "source": [
    "with open('conn_matrix.csv', 'w+') as file:\n",
    "    writer = csv.writer(file)\n",
    "    writer.writerows(labels)"
   ]
  },
  {
   "cell_type": "code",
   "execution_count": null,
   "metadata": {},
   "outputs": [],
   "source": []
  }
 ],
 "metadata": {
  "kernelspec": {
   "display_name": "Python 3",
   "language": "python",
   "name": "python3"
  },
  "language_info": {
   "codemirror_mode": {
    "name": "ipython",
    "version": 3
   },
   "file_extension": ".py",
   "mimetype": "text/x-python",
   "name": "python",
   "nbconvert_exporter": "python",
   "pygments_lexer": "ipython3",
   "version": "3.7.6"
  }
 },
 "nbformat": 4,
 "nbformat_minor": 4
}
